{
 "cells": [
  {
   "cell_type": "markdown",
   "metadata": {},
   "source": [
    "# Brainstorm Note for RDPass\n",
    "\n",
    "A simple password manager GUI. Allows me to save my password into a database and get rid of my .txt"
   ]
  },
  {
   "cell_type": "markdown",
   "metadata": {},
   "source": [
    "---\n",
    "### Functionality\n",
    "- Password should be stored in multiple database to avoid all the password getting compromised in one-go.\n",
    "- Allow multiple database to be created in the GUI\n",
    "- Password in each database should be encrypted, ideally in an unique way\n",
    "- Master key (or the password to get into the GUI) , should be hashed as well\n",
    "- One-button Copy to clipboard\n",
    "- Search function for the password\n",
    "- Timer counter for inactivity, auto log-out, auto clipboard clear\n",
    "- Allow Password database back-up or export to .txt, similar to what I use right now"
   ]
  },
  {
   "cell_type": "markdown",
   "metadata": {},
   "source": [
    "---\n",
    "### Basic function testing\n"
   ]
  },
  {
   "cell_type": "code",
   "execution_count": 32,
   "metadata": {},
   "outputs": [],
   "source": [
    "import os\n",
    "from Crypto.Cipher import AES\n",
    "\n",
    "global_login = 0"
   ]
  },
  {
   "cell_type": "code",
   "execution_count": 42,
   "metadata": {},
   "outputs": [],
   "source": [
    "#Utils\n",
    "db_path = './db_storage/'\n",
    "\n",
    "def scan_db_dir(dir_path):\n",
    "    '''\n",
    "        Returns the number of existing database in the given dir\n",
    "    '''\n",
    "    db_list = os.listdir(dir_path)\n",
    "    return db_list\n",
    "\n",
    "\n",
    "\n"
   ]
  },
  {
   "cell_type": "code",
   "execution_count": 15,
   "metadata": {},
   "outputs": [],
   "source": [
    "class CredEntry():\n",
    "    \n",
    "    def __init__(self, title, user, password, description, folder):\n",
    "        self.title = title\n",
    "        self.user = user\n",
    "        self.password = password\n",
    "        self.description = description\n",
    "        self.folder = folder\n",
    "    \n",
    "    def __str__(self):                            #String representation of the object\n",
    "        return f\"Credential Entry - {self.title}: {self.description}\"\n",
    "\n",
    "    def "
   ]
  },
  {
   "cell_type": "code",
   "execution_count": 19,
   "metadata": {},
   "outputs": [],
   "source": [
    "newentry = CredEntry('Test_title','chanchichungjeffrey@hotmail.com','1234','This is a test description','Group 1')"
   ]
  },
  {
   "cell_type": "code",
   "execution_count": 43,
   "metadata": {},
   "outputs": [
    {
     "data": {
      "text/plain": [
       "['b.txt', 'a.txt']"
      ]
     },
     "execution_count": 43,
     "metadata": {},
     "output_type": "execute_result"
    }
   ],
   "source": [
    "scan_db_dir(db_path)"
   ]
  },
  {
   "cell_type": "code",
   "execution_count": 28,
   "metadata": {},
   "outputs": [
    {
     "name": "stdout",
     "output_type": "stream",
     "text": [
      "Added - Credential Entry - Test_title: This is a test description\n"
     ]
    }
   ],
   "source": [
    "print(\"Added - \"+str(newentry))\n"
   ]
  },
  {
   "cell_type": "code",
   "execution_count": null,
   "metadata": {},
   "outputs": [],
   "source": [
    "# import argparse\n",
    "# import configparser\n",
    "# import os\n",
    "# import os.path\n",
    "# from base64 import b64decode, b64encode\n",
    "# from getpass import getpass\n",
    "\n",
    "# from simplecrypt import decrypt, encrypt\n",
    "\n",
    "\n",
    "# def encrypt_text(decrypt_password, plaintext):\n",
    "#     cipher = encrypt(decrypt_password, plaintext)\n",
    "#     encoded_cipher = b64encode(cipher)\n",
    "#     return encoded_cipher.decode('utf-8')\n",
    "\n",
    "\n",
    "# def decrypt_text(decrypt_password, encoded_cipher):\n",
    "#     cipher = b64decode(encoded_cipher)\n",
    "#     plaintext = decrypt(decrypt_password, cipher)\n",
    "#     return plaintext.decode('utf-8')\n",
    "\n",
    "\n",
    "# def encrypt_config_file(input_file, output_file, decrypt_password):\n",
    "#     \"\"\"Takes in an unencrypted config file and writes an encrypted config file given the decryption password.\"\"\"\n",
    "#     config = configparser.RawConfigParser()\n",
    "#     config.read(input_file)\n",
    "\n",
    "#     for section in config.sections():\n",
    "#         section = config[section]\n",
    "#         for key in section.keys():\n",
    "#             value = section[key]\n",
    "#             section[key] = encrypt_text(decrypt_password, value)\n",
    "\n",
    "#     with open(output_file, 'w') as f:\n",
    "#         config.write(f)\n",
    "\n",
    "\n",
    "# def write_config_file(config_filename, credential_name, cred_type=['user', 'password']):\n",
    "#     # Check if decryption password exists in environment\n",
    "#     if os.environ.get(\"SATS_PWD\") is None:\n",
    "#         decryption_password = getpass(prompt='decryption_password')\n",
    "#     else:\n",
    "#         decryption_password = os.environ[\"SATS_PWD\"]\n",
    "#     cred_dict = add_config_section(config_filename, credential_name, decryption_password, cred_type)\n",
    "#     return cred_dict\n",
    "\n",
    "\n",
    "# def input_credentials(credential_name, cred_type):\n",
    "#     cred_dict = {}\n",
    "#     for cred in cred_type:\n",
    "#         input_cred = getpass(prompt=\"{credential_name} {cred}\".format(credential_name=credential_name, cred=cred))\n",
    "#         cred_dict.update({cred: input_cred})\n",
    "#     return cred_dict\n",
    "\n",
    "\n",
    "# def add_config_section(config_filename, credential_name, decryption_password, cred_type):\n",
    "#     # create a new section (eg. sql_database) and add credential types (eg api key)\n",
    "#     config = configparser.RawConfigParser()\n",
    "#     config.read(config_filename)\n",
    "#     config.add_section(credential_name)\n",
    "#     cred_dict = add_cred_to_section(config_filename, config, credential_name, decryption_password, cred_type)\n",
    "#     return cred_dict\n",
    "\n",
    "\n",
    "# def add_cred_to_section(config_filename, config, credential_name, decryption_password, cred_type):\n",
    "#     # add a credential type under a particular section (eg add user to section sql_database)\n",
    "#     cred_dict = input_credentials(credential_name, cred_type)\n",
    "#     for key, value in cred_dict.items():\n",
    "#         config.set(credential_name, key, encrypt_text(decryption_password, value))\n",
    "#     cfile = open(config_filename, \"w\")\n",
    "#     config.write(cfile)\n",
    "#     cfile.close()\n",
    "#     return cred_dict\n",
    "\n",
    "\n",
    "# def read_config_file(config_filename, credential_name, cred_type=[]):\n",
    "#     config = configparser.RawConfigParser()\n",
    "#     config.read(config_filename)\n",
    "#     # Check if decryption password exists in environment\n",
    "#     if os.environ.get(\"SATS_PWD\") is None:\n",
    "#         decrypt_password = getpass(prompt='decrypt_password')\n",
    "#     else:\n",
    "#         decrypt_password = os.environ[\"SATS_PWD\"]\n",
    "#     cred_dict = {}\n",
    "\n",
    "#     if len(cred_type) == 0:\n",
    "#         section = config[credential_name]\n",
    "#         for key in section.keys():\n",
    "#             value = section[key]\n",
    "#             cred_dict[key] = decrypt_text(decrypt_password, value)\n",
    "\n",
    "#     # TODO: This section is not very obvious this should be done by this function\n",
    "#     # loop through credentials in an existing section and write credential if there is none\n",
    "#     for cred in cred_type:\n",
    "#         try:\n",
    "#             cred_dict.update({cred: decrypt_text(decrypt_password, config.get(credential_name, cred))})\n",
    "#         except configparser.NoOptionError:\n",
    "#             cred_dict = add_cred_to_section(config_filename, config, credential_name, decrypt_password, cred_type)\n",
    "#     return cred_dict\n",
    "\n",
    "\n",
    "# def grab_credentials_from_config(config_file, credential_name, cred_type=['user', 'password']):\n",
    "#     \"\"\"returns a dictionary of credentials (cred_type) under a spectic section (credential name)\n",
    "#        checks if a config file exists and if the credential name and type already exists and\n",
    "#        if not allows input into config file for later use\"\"\"\n",
    "#     if os.path.isfile(config_file):\n",
    "#         try:\n",
    "#             cred_dict = read_config_file(config_file, credential_name, cred_type)\n",
    "#         except configparser.NoSectionError:\n",
    "#             cred_dict = write_config_file(config_file, credential_name, cred_type)\n",
    "#     else:\n",
    "#         cred_dict = write_config_file(config_file, credential_name, cred_type)\n",
    "#     return cred_dict\n",
    "\n",
    "\n",
    "# if _name_ == \"_main_\":\n",
    "#     \"\"\" Usecase of these functions. Pass the username and password to arguements so they can be used\n",
    "#     for eg. get_database_engine(user=user, password=password)\"\"\"\n",
    "#     parser = argparse.ArgumentParser()\n",
    "#     parser.add_argument(\"--config_file\", default=\"config.ini\")\n",
    "#     parser.add_argument(\"--credential_name\", required=True, help='eg. sql_database')\n",
    "#     args = parser.parse_args()\n",
    "#     credentials = grab_credentials_from_config(args.config_file, args.credential_name)\n",
    "#     user = credentials[\"user\"]\n",
    "#     password = credentials[\"password\"]\n",
    "\n",
    "#     # google maps api key example\n",
    "#     credentials = grab_credentials_from_config(args.config_file, 'google maps', cred_type=['api_key'])\n",
    "#     api_key = credentials[\"api_key\"]\n",
    "\n",
    "#     credentials = grab_credentials_from_config(args.config_file, 'google maps', cred_type=['password'])\n",
    "#     api_key = credentials[\"password\"]"
   ]
  }
 ],
 "metadata": {
  "kernelspec": {
   "display_name": "Python 3",
   "language": "python",
   "name": "python3"
  },
  "language_info": {
   "codemirror_mode": {
    "name": "ipython",
    "version": 3
   },
   "file_extension": ".py",
   "mimetype": "text/x-python",
   "name": "python",
   "nbconvert_exporter": "python",
   "pygments_lexer": "ipython3",
   "version": "3.6.10"
  }
 },
 "nbformat": 4,
 "nbformat_minor": 4
}
