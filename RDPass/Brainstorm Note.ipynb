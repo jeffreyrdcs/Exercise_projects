{
 "cells": [
  {
   "cell_type": "markdown",
   "metadata": {},
   "source": [
    "# Brainstorm Note for RDPass\n",
    "\n",
    "A simple password manager GUI. Allows me to save my password into a database and get rid of my .txt"
   ]
  },
  {
   "cell_type": "markdown",
   "metadata": {},
   "source": [
    "---\n",
    "### Functionality\n",
    "- Password should be stored in multiple database to avoid all the password getting compromised in one-go (Done)\n",
    "- Allow multiple database to be created (Done)\n",
    "- Password in each database should be encrypted, ideally in an unique way\n",
    "- Master key (or the password to get into the GUI) , should be hashed as well (Done)\n",
    "- One-button Copy to clipboard\n",
    "- Search function for the password (Done)\n",
    "- Timer counter for inactivity, auto log-out, auto clipboard clear\n",
    "- Allow Password database back-up or export to .txt, similar to what I use right now"
   ]
  },
  {
   "cell_type": "code",
   "execution_count": 1,
   "metadata": {},
   "outputs": [],
   "source": [
    "# For auto-reloading external modules\n",
    "#\n",
    "# Jupyter notebook does not automatically reload the modules even they are changed\n",
    "# It also would not work if you run the import module again with the same name\n",
    "#\n",
    "# see http://stackoverflow.com/questions/1907993/autoreload-of-modules-in-ipython\n",
    "%load_ext autoreload\n",
    "%autoreload 2"
   ]
  },
  {
   "cell_type": "markdown",
   "metadata": {},
   "source": [
    "---\n",
    "### Basic function testing\n"
   ]
  },
  {
   "cell_type": "code",
   "execution_count": 2,
   "metadata": {},
   "outputs": [],
   "source": [
    "import os\n",
    "import sys\n",
    "import logging\n",
    "from RDconfig import rdconfig\n",
    "from RDutils import rdutils, rdmenu, rddb\n",
    "\n",
    "# create the RDPass logger\n",
    "#logging.basicConfig(stream=sys.stdout)\n",
    "rdpass_logger = logging.getLogger('rdpass')\n",
    "rdpass_logger.setLevel(logging.DEBUG)\n",
    "\n",
    "# create console handler andset level to debug\n",
    "ch = logging.StreamHandler()      #stream=sys.stdout\n",
    "ch.setLevel(logging.DEBUG)\n",
    "\n",
    "# create formatter\n",
    "formatter = logging.Formatter('%(name)s/%(levelname)s - %(message)s')\n",
    "\n",
    "# add formatter to ch\n",
    "ch.setFormatter(formatter)\n",
    "# add ch to logger\n",
    "rdpass_logger.addHandler(ch)\n",
    "\n",
    "#rdpass_logger.debug('This is an INFO')\n",
    "#rdpass_logger.warning('Hi')"
   ]
  },
  {
   "cell_type": "code",
   "execution_count": null,
   "metadata": {},
   "outputs": [],
   "source": [
    "#Utils\n",
    "\n",
    "#def scan_db_dir(dir_path)\n",
    "#def check_config_file(config_dir_path, db_dir_path)\n",
    "#def request_input(msgtxt='', hidden=False)\n",
    "#def get_hashed_key_from_config(config_file_path)\n",
    "#def clear()\n",
    "#def display_entry(in_col_names, in_result)"
   ]
  },
  {
   "cell_type": "code",
   "execution_count": null,
   "metadata": {},
   "outputs": [],
   "source": [
    "#Menu\n",
    "\n",
    "#def load_login_menu()\n",
    "#def menu_command_list()\n",
    "#def load_menu_command()"
   ]
  },
  {
   "cell_type": "code",
   "execution_count": null,
   "metadata": {},
   "outputs": [],
   "source": [
    "#Cred_Entry\n",
    "\n",
    "#class CredEntry()"
   ]
  },
  {
   "cell_type": "code",
   "execution_count": null,
   "metadata": {},
   "outputs": [],
   "source": [
    "#DB related\n",
    "\n",
    "#def create_new_db(config_dir_path, db_dir_path, existing_db_list=[])\n",
    "#def create_template_db(db_full_name_path)\n",
    "#def connect_existing_db(db_full_name_path)\n",
    "#def add_entry_command(c_entry)\n",
    "#def update_entry_command(title, c_entry)\n",
    "#def delete_entry_command(command_choice, title='dummy')\n",
    "#def list_entry_command(command_choice, in_name='dummy')\n",
    "#def list_existing_category(in_column)\n",
    "#def select_db_from_list(available_db_list)\n",
    "#def login_db(db_name)"
   ]
  },
  {
   "cell_type": "code",
   "execution_count": null,
   "metadata": {},
   "outputs": [],
   "source": [
    "#Encryption\n",
    "\n",
    "#def get_hashed_key(input_key)\n",
    "#def validate_hashed_key(input_pw_to_check, hashed_key)\n",
    "#def gen_salt(salt_depth)\n",
    "#def encrypt_pass(in_pass_byte, salt)\n",
    "#def decrypt_pass(in_enc_pass_byte, salt)\n",
    "#from RDutils.rdencrypt import *\n"
   ]
  },
  {
   "cell_type": "code",
   "execution_count": null,
   "metadata": {},
   "outputs": [],
   "source": [
    "# # Initialize parameters\n",
    "# db_path = './db_storage/'\n",
    "# config_path = './config_storage/'\n",
    "# rdutils.check_config_file(config_path, db_path)\n",
    "\n",
    "# newentry = CredEntry('Test_title','chanchichungjeffrey@hotmail.com','1234','This is a test description','Group 1')\n",
    "# print(\"Added - \"+str(newentry))\n",
    "# print(newentry.message())\n",
    "\n",
    "# testcred = CredEntry()\n",
    "# testcred.user_input(check_existing_title_flag=True, list_existing_category_flag=True)\n",
    "\n",
    "# # Logout this database\n",
    "# elif command == 'l':\n",
    "# print('Logging out of the database.')\n",
    "# logout_db()\n",
    "\n",
    "# connect_existing_db('./db_storage/')\n",
    "\n",
    "# import base64\n",
    "\n",
    "# testpw= '1234'\n",
    "# testpwb64 = base64.b64encode(testpw.encode())\n",
    "# print(testpwb64.decode())\n",
    "# print(base64.b64decode(testpwb64).decode())\n",
    "\n",
    "# #generateIV\n",
    "# enc_pass = encrypt_pass('1234325235nsdjvnskdv66nsdk!!!??35235234'.encode(),newsalt.encode())\n",
    "# print(enc_pass)\n",
    "\n",
    "# out_pass = decrypt_pass(enc_pass.encode(), newsalt.encode())\n",
    "# print(out_pass)"
   ]
  },
  {
   "cell_type": "code",
   "execution_count": 6,
   "metadata": {},
   "outputs": [
    {
     "name": "stderr",
     "output_type": "stream",
     "text": [
      "rdpass/INFO - Found 2 DB.\n",
      "rdpass/INFO - 2 DB are available\n"
     ]
    },
    {
     "name": "stdout",
     "output_type": "stream",
     "text": [
      "##############################################\n",
      "\n",
      "           RD Password Manager - v1.0\n",
      "\n",
      "##############################################\n",
      "Do you want to [l]og into an existing database or [c]reate a new database? l\n",
      "Available Database: lamoisdumb, test1\n",
      "Select a database to login: lamoisdumb\n",
      "Please enter the master key for database lamoisdumb:  ········\n",
      "Login success. Accessing database - lamoisdumb:\n",
      "##############################################\n",
      "\n",
      "           RD Password Manager Menu\n",
      "\n",
      "##############################################\n",
      "\n",
      "Please select an option: \n",
      "[A]dd an new entry\n",
      "[U]pdate an existing entry\n",
      "[D]elete an existing entry\n",
      "[S]earch an entry by name and show password\n",
      "[LA]List all entries in the database\n",
      "[LC]List entries in a certain category\n",
      "[DA]Delete all entries in the database\n",
      "[E]xtract the database into file\n",
      "[Q]uit\n",
      "\n",
      "Enter a command: A\n",
      "[A]dd an new entry\n",
      "Existing Titles: []\n",
      "Enter the TITLE of the entry: lamo\n",
      "Existing Categories: []\n",
      "Enter the CATEGORY that the entry belongs to: penis\n",
      "Enter the USER of the entry: me\n",
      "Please enter that again:  \n",
      "Does not match. Try again!\n",
      "Enter the USER of the entry: \n",
      "Please enter that again:  me\n",
      "Does not match. Try again!\n",
      "Enter the USER of the entry: me\n",
      "Please enter that again:  me\n",
      "Enter the PASSWORD of the entry:  ········\n",
      "Please enter that again:   ········\n",
      "Enter the DESCRIPTION for the entry: something that belongs to me\n",
      "Entry added.\n",
      "\u001b[1J\n",
      "Please select an option: \n",
      "[A]dd an new entry\n",
      "[U]pdate an existing entry\n",
      "[D]elete an existing entry\n",
      "[S]earch an entry by name and show password\n",
      "[LA]List all entries in the database\n",
      "[LC]List entries in a certain category\n",
      "[DA]Delete all entries in the database\n",
      "[E]xtract the database into file\n",
      "[Q]uit\n",
      "\n",
      "Enter a command: L\n",
      "\u001b[1J\n",
      "Please select an option: \n",
      "[A]dd an new entry\n",
      "[U]pdate an existing entry\n",
      "[D]elete an existing entry\n",
      "[S]earch an entry by name and show password\n",
      "[LA]List all entries in the database\n",
      "[LC]List entries in a certain category\n",
      "[DA]Delete all entries in the database\n",
      "[E]xtract the database into file\n",
      "[Q]uit\n",
      "\n",
      "Enter a command: LA\n",
      "[LA]List all entries in the database\n",
      "\n",
      "+---------------+---------------+---------------+---------------+---------------+---------------+---------------+\n",
      "|       entry_id|          title|           user|       password|       category|    description|           salt|\n",
      "+---------------+---------------+---------------+---------------+---------------+---------------+---------------+\n",
      "|              1|           lamo|             me| x8mGEAjQ6nR...|          penis| something t...| $2a$05$v1cz...|\n",
      "+---------------+---------------+---------------+---------------+---------------+---------------+---------------+\n",
      "\n",
      "\u001b[1J\n",
      "Please select an option: \n",
      "[A]dd an new entry\n",
      "[U]pdate an existing entry\n",
      "[D]elete an existing entry\n",
      "[S]earch an entry by name and show password\n",
      "[LA]List all entries in the database\n",
      "[LC]List entries in a certain category\n",
      "[DA]Delete all entries in the database\n",
      "[E]xtract the database into file\n",
      "[Q]uit\n",
      "\n",
      "Enter a command: S\n",
      "[S]earch an entry by name\n",
      "Existing Titles in the database: ['lamo']\n",
      "Enter the TITLE of the entry you would like to query: lamo\n",
      "\n",
      "+---------------+---------------+---------------+---------------+---------------+---------------+---------------+\n",
      "|       entry_id|          title|           user|       password|       category|    description|           salt|\n",
      "+---------------+---------------+---------------+---------------+---------------+---------------+---------------+\n",
      "|              1|           lamo|             me|             hi|          penis| something t...| $2a$05$v1cz...|\n",
      "+---------------+---------------+---------------+---------------+---------------+---------------+---------------+\n",
      "\n",
      "\u001b[1J\n",
      "Please select an option: \n",
      "[A]dd an new entry\n",
      "[U]pdate an existing entry\n",
      "[D]elete an existing entry\n",
      "[S]earch an entry by name and show password\n",
      "[LA]List all entries in the database\n",
      "[LC]List entries in a certain category\n",
      "[DA]Delete all entries in the database\n",
      "[E]xtract the database into file\n",
      "[Q]uit\n",
      "\n",
      "Enter a command: q\n",
      "\n"
     ]
    },
    {
     "ename": "SystemExit",
     "evalue": "",
     "output_type": "error",
     "traceback": [
      "An exception has occurred, use %tb to see the full traceback.\n",
      "\u001b[0;31mSystemExit\u001b[0m\n"
     ]
    }
   ],
   "source": [
    "# Start the program\n",
    "if __name__ == '__main__':\n",
    "    \n",
    "    # Initialize parameters\n",
    "    db_path = rdconfig.config_status['db_path']\n",
    "    config_path = rdconfig.config_status['config_path']\n",
    "\n",
    "    # Print the initization\n",
    "    print('##############################################')\n",
    "    print('')\n",
    "    print('           RD Password Manager - v1.0')\n",
    "    print('')\n",
    "    print('##############################################')\n",
    "    \n",
    "    # If add new DB flag is on, add new DB here\n",
    "    \n",
    "    \n",
    "    # Check if database exist and return an available list for login\n",
    "    db_avail_list = []\n",
    "    \n",
    "    while len(db_avail_list) == 0:\n",
    "        db_list = rdutils.scan_db_dir(db_path)\n",
    "        \n",
    "        ## If no DB exist, generate one\n",
    "        if len(db_list) == 0:\n",
    "            rdpass_logger.info(f'Found no DB. Generating a new one.')\n",
    "            rddb.create_new_db(config_path, db_path, existing_db_list = db_avail_list)\n",
    "        else:\n",
    "            rdpass_logger.info(f'Found {len(db_list)} DB.')\n",
    "        \n",
    "            ### Check if config file exists for each db\n",
    "            config_avail_list = rdutils.check_config_file(config_path, db_path)\n",
    "            \n",
    "            for db_item, config_flag in zip(db_list, config_avail_list):\n",
    "                if config_flag == 1:\n",
    "                    db_avail_list.append(db_item)\n",
    "                    \n",
    "            rdpass_logger.info(f'{len(db_avail_list)} DB are available')\n",
    "            \n",
    "    # Ask user to login existing DB or create new DB, and select DB from available list if login\n",
    "    sel_db_name = rdmenu.load_login_menu(db_avail_list)\n",
    "    \n",
    "    # login the selected DB, and if successful, reveal choice of the menu\n",
    "    if rddb.login_db(sel_db_name):\n",
    "        rdmenu.load_menu_command()\n",
    "\n",
    "\n"
   ]
  },
  {
   "cell_type": "code",
   "execution_count": 7,
   "metadata": {},
   "outputs": [],
   "source": [
    "import tkinter"
   ]
  },
  {
   "cell_type": "code",
   "execution_count": 8,
   "metadata": {},
   "outputs": [
    {
     "ename": "AttributeError",
     "evalue": "module 'tkinter' has no attribute 'test'",
     "output_type": "error",
     "traceback": [
      "\u001b[0;31m---------------------------------------------------------------------------\u001b[0m",
      "\u001b[0;31mAttributeError\u001b[0m                            Traceback (most recent call last)",
      "\u001b[0;32m<ipython-input-8-6a8221dac1dc>\u001b[0m in \u001b[0;36m<module>\u001b[0;34m\u001b[0m\n\u001b[0;32m----> 1\u001b[0;31m \u001b[0mtkinter\u001b[0m\u001b[0;34m.\u001b[0m\u001b[0mtest\u001b[0m\u001b[0;34m(\u001b[0m\u001b[0;34m)\u001b[0m\u001b[0;34m\u001b[0m\u001b[0;34m\u001b[0m\u001b[0m\n\u001b[0m",
      "\u001b[0;31mAttributeError\u001b[0m: module 'tkinter' has no attribute 'test'"
     ]
    }
   ],
   "source": [
    "tkinter.test()"
   ]
  },
  {
   "cell_type": "code",
   "execution_count": null,
   "metadata": {},
   "outputs": [],
   "source": []
  }
 ],
 "metadata": {
  "kernelspec": {
   "display_name": "Python 3",
   "language": "python",
   "name": "python3"
  },
  "language_info": {
   "codemirror_mode": {
    "name": "ipython",
    "version": 3
   },
   "file_extension": ".py",
   "mimetype": "text/x-python",
   "name": "python",
   "nbconvert_exporter": "python",
   "pygments_lexer": "ipython3",
   "version": "3.6.10"
  }
 },
 "nbformat": 4,
 "nbformat_minor": 4
}
